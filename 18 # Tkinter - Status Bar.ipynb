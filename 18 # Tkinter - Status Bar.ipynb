{
 "cells": [
  {
   "cell_type": "code",
   "execution_count": 12,
   "metadata": {},
   "outputs": [],
   "source": [
    "from tkinter import *\n",
    "import time\n",
    "\n",
    "root = Tk()\n",
    "root.geometry(\"400x400\")\n",
    "root.title('Status Bar')\n",
    "\n",
    "status_var = StringVar()\n",
    "status_var.set('Ready')\n",
    "\n",
    "# Status Bar is not a widget, so via Label and Border..we try to make a status bar\n",
    "sbar = Label(root,textvariable=status_var,relief=SUNKEN,anchor='w')\n",
    "sbar.pack(side=BOTTOM,fill=X)\n",
    "\n",
    "def upload():\n",
    "    status_var.set('Busy')\n",
    "    sbar.update()  #if we not see this line, status will not be updated/set\n",
    "    time.sleep(2)\n",
    "    status_var.set('Ready')\n",
    "    \n",
    "Button(text='Upload',command=upload).pack()\n",
    "\n",
    "root.mainloop()"
   ]
  }
 ],
 "metadata": {
  "kernelspec": {
   "display_name": "Python 3",
   "language": "python",
   "name": "python3"
  },
  "language_info": {
   "codemirror_mode": {
    "name": "ipython",
    "version": 3
   },
   "file_extension": ".py",
   "mimetype": "text/x-python",
   "name": "python",
   "nbconvert_exporter": "python",
   "pygments_lexer": "ipython3",
   "version": "3.6.9"
  }
 },
 "nbformat": 4,
 "nbformat_minor": 2
}
