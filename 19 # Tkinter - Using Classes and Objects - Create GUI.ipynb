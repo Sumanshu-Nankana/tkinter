{
 "cells": [
  {
   "cell_type": "code",
   "execution_count": 15,
   "metadata": {},
   "outputs": [],
   "source": [
    "from tkinter import *\n",
    "\n",
    "#We created one class, and inherited from class Tk\n",
    "class GUI(Tk):\n",
    "    def __init__(self):\n",
    "        super().__init__() #we initize the constructor of Tk() class using super() method, same as root = Tk()\n",
    "        self.geometry(\"744x377\")\n",
    "        self.title('Tkinter - Using Classes and Objects')\n",
    "    \n",
    "    def status(self):\n",
    "        self.var = StringVar()\n",
    "        self.var.set(\"Ready\")\n",
    "        self.statusbar = Label(self,textvariable=self.var,relief=SUNKEN,anchor='w')\n",
    "        self.statusbar.pack(side=BOTTOM,fill=X)\n",
    "    \n",
    "    def click(self):\n",
    "        print('Button Clicked!')\n",
    "        \n",
    "    def create_button(self,inptext):\n",
    "        Button(text=inptext,command=self.click).pack()\n",
    "\n",
    "if __name__ == '__main__':\n",
    "    window = GUI()  #we created object of our class\n",
    "    window.status()\n",
    "    window.create_button('Click Me')\n",
    "    window.mainloop()    "
   ]
  }
 ],
 "metadata": {
  "kernelspec": {
   "display_name": "Python 3",
   "language": "python",
   "name": "python3"
  },
  "language_info": {
   "codemirror_mode": {
    "name": "ipython",
    "version": 3
   },
   "file_extension": ".py",
   "mimetype": "text/x-python",
   "name": "python",
   "nbconvert_exporter": "python",
   "pygments_lexer": "ipython3",
   "version": "3.6.9"
  }
 },
 "nbformat": 4,
 "nbformat_minor": 2
}
