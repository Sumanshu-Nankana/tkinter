{
 "cells": [
  {
   "cell_type": "code",
   "execution_count": 3,
   "metadata": {},
   "outputs": [],
   "source": [
    "#To create any GUI in Python, There are so many modules\n",
    "\n",
    "# Tkinter\n",
    "# PyQt (Qt owned by Nokia)\n",
    "# Kivy\n",
    "\n",
    "# But we will use tkinter, it comes along with Python, There is no need to install seprately\n",
    "\n",
    "# Let's import everything from tkinter - though it's not good thing\n",
    "# but here we are learning basics so let's import everything\n",
    "from tkinter import *\n",
    "\n",
    "# create a root window using Tk() class\n",
    "root = Tk()\n",
    "\n",
    "# Now run a mainloop() function which is necssary - this provide a basic window for GUI\n",
    "# In which we place our widgets\n",
    "# But if we directly run root.mainloop() - a window open with some default size\n",
    "\n",
    "# But we want, when first time window open, it open in some specific size\n",
    "# So we need to set geometry parameter and in this we give width x height\n",
    "\n",
    "# width x height\n",
    "root.geometry(\"500x500\")\n",
    "\n",
    "# But Still we can manually drag the window size and increase it's width and height\n",
    "# Let's fix it's min and max size.\n",
    "root.minsize(200,100)\n",
    "root.maxsize(300,300)\n",
    "\n",
    "#Lets create a variable\n",
    "label1 = Label(text=\"Label1\")\n",
    "\n",
    "#But we need to pack the variable to show it on GUI, If we not pack it, it will be not visible.\n",
    "label1.pack()\n",
    "\n",
    "root.mainloop()"
   ]
  }
 ],
 "metadata": {
  "kernelspec": {
   "display_name": "Python 3",
   "language": "python",
   "name": "python3"
  },
  "language_info": {
   "codemirror_mode": {
    "name": "ipython",
    "version": 3
   },
   "file_extension": ".py",
   "mimetype": "text/x-python",
   "name": "python",
   "nbconvert_exporter": "python",
   "pygments_lexer": "ipython3",
   "version": "3.6.9"
  }
 },
 "nbformat": 4,
 "nbformat_minor": 2
}
