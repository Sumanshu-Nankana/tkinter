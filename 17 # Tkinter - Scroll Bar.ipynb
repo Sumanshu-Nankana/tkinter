{
 "cells": [
  {
   "cell_type": "code",
   "execution_count": 9,
   "metadata": {},
   "outputs": [],
   "source": [
    "from tkinter import *\n",
    "\n",
    "root = Tk()\n",
    "root.title(\"Scroll Bar\")\n",
    "root.geometry(\"400x400\")\n",
    "\n",
    "# For connecting scrollbar to a widget\n",
    "# 1. widget(yscrollcommand = scrollbar.set)\n",
    "# 2. scrollbar.config(command = widget.yview)\n",
    "\n",
    "scrollbar = Scrollbar(root)\n",
    "scrollbar.pack(side=RIGHT,fill=Y)\n",
    "\n",
    "listbox = Listbox(root,yscrollcommand = scrollbar.set)\n",
    "for i in range(300):\n",
    "    listbox.insert(END,f\"Item - {i}\")\n",
    "listbox.pack()\n",
    "scrollbar.config(command = listbox.yview)\n",
    "\n",
    "root.mainloop()"
   ]
  },
  {
   "cell_type": "code",
   "execution_count": 10,
   "metadata": {},
   "outputs": [],
   "source": [
    "from tkinter import *\n",
    "\n",
    "root = Tk()\n",
    "root.title(\"Scroll Bar\")\n",
    "root.geometry(\"400x400\")\n",
    "\n",
    "# For connecting scrollbar to a widget\n",
    "# 1. widget(yscrollcommand = scrollbar.set)\n",
    "# 2. scrollbar.config(command = widget.yview)\n",
    "\n",
    "scrollbar = Scrollbar(root)\n",
    "scrollbar.pack(side=RIGHT,fill=Y)\n",
    "\n",
    "textbox = Text(root,yscrollcommand = scrollbar.set)\n",
    "textbox.pack()\n",
    "scrollbar.config(command = textbox.yview)\n",
    "\n",
    "root.mainloop()"
   ]
  }
 ],
 "metadata": {
  "kernelspec": {
   "display_name": "Python 3",
   "language": "python",
   "name": "python3"
  },
  "language_info": {
   "codemirror_mode": {
    "name": "ipython",
    "version": 3
   },
   "file_extension": ".py",
   "mimetype": "text/x-python",
   "name": "python",
   "nbconvert_exporter": "python",
   "pygments_lexer": "ipython3",
   "version": "3.6.9"
  }
 },
 "nbformat": 4,
 "nbformat_minor": 2
}
