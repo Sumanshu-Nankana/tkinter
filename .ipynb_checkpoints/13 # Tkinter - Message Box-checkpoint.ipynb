{
 "cells": [
  {
   "cell_type": "code",
   "execution_count": 32,
   "metadata": {},
   "outputs": [
    {
     "name": "stdout",
     "output_type": "stream",
     "text": [
      "You retried..\n",
      "okay, you cancelled\n"
     ]
    }
   ],
   "source": [
    "from tkinter import *\n",
    "import tkinter.messagebox as tmsg\n",
    "\n",
    "root = Tk()\n",
    "root.title(\"Message Box\")\n",
    "root.geometry(\"400x400\")\n",
    "\n",
    "def quit():\n",
    "    root.destroy()\n",
    "    \n",
    "def about():\n",
    "    tmsg.showinfo(\"About\",\"version 1.0\")\n",
    "    \n",
    "def rating():\n",
    "    value = tmsg.askquestion(\"Tell us\",\"Was Your Experiance is good?\")\n",
    "    if value == 'yes':\n",
    "        msg = \"Great!! Rate us Please !\"\n",
    "    else:\n",
    "        msg = \"Tell us what went wrong, We will call you soon!\"\n",
    "    tmsg.showinfo(\"Experiance\",msg)\n",
    "    \n",
    "def test_opt():\n",
    "    ans = tmsg.askretrycancel(\"Test Option\",\"Wanna retry or cancel!!\")\n",
    "    #this return true or false\n",
    "    if ans:\n",
    "        print(\"You retried..\")\n",
    "    else:\n",
    "        print(\"okay, you cancelled\")\n",
    "        \n",
    "\n",
    "main_menu = Menu(root)\n",
    "\n",
    "m1 = Menu(main_menu,tearoff=0)\n",
    "m1.add_command(label=\"New\")\n",
    "m1.add_command(label=\"Open\")\n",
    "m1.add_separator()\n",
    "m1.add_command(label=\"Save\")\n",
    "m1.add_command(label=\"Save As\")\n",
    "m1.add_command(label=\"Rename\")\n",
    "m1.add_separator()\n",
    "m1.add_command(label=\"Close and Exit\",command=quit)\n",
    "main_menu.add_cascade(label=\"File\",menu=m1)\n",
    "\n",
    "m2 = Menu(main_menu,tearoff=0)\n",
    "m2.add_command(label=\"Cut\")\n",
    "m2.add_command(label=\"Copy\")\n",
    "m2.add_command(label=\"Paste\")\n",
    "m2.add_command(label=\"Delete\")\n",
    "m2.add_separator()\n",
    "m2.add_command(label=\"Find and Replace\",command=quit)\n",
    "main_menu.add_cascade(label=\"Edit\",menu=m2)\n",
    "\n",
    "m3 = Menu(main_menu,tearoff=0)\n",
    "m3.add_command(label=\"About\",command=about)\n",
    "m3.add_separator()\n",
    "m3.add_command(label=\"Rate Us\",command=rating)\n",
    "m3.add_separator()\n",
    "m3.add_command(label=\"Test Option\",command=test_opt)\n",
    "main_menu.add_cascade(label=\"Help\",menu=m3)\n",
    "\n",
    "root.config(menu=main_menu)\n",
    "\n",
    "root.mainloop()"
   ]
  }
 ],
 "metadata": {
  "kernelspec": {
   "display_name": "Python 3",
   "language": "python",
   "name": "python3"
  },
  "language_info": {
   "codemirror_mode": {
    "name": "ipython",
    "version": 3
   },
   "file_extension": ".py",
   "mimetype": "text/x-python",
   "name": "python",
   "nbconvert_exporter": "python",
   "pygments_lexer": "ipython3",
   "version": "3.6.9"
  }
 },
 "nbformat": 4,
 "nbformat_minor": 2
}
