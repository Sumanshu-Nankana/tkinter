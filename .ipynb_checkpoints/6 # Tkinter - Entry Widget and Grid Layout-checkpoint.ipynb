{
 "cells": [
  {
   "cell_type": "code",
   "execution_count": 15,
   "metadata": {},
   "outputs": [
    {
     "name": "stdout",
     "output_type": "stream",
     "text": [
      "sumanshu\n",
      "nankana\n"
     ]
    }
   ],
   "source": [
    "from tkinter import *\n",
    "\n",
    "root = Tk()\n",
    "root.geometry(\"400x400\")\n",
    "root.title('Entry Widget and Grid layout')\n",
    "\n",
    "#In Excel we have cell..similat concepts we will use\n",
    "\n",
    "user = Label(text=\"Username\")\n",
    "password = Label(text=\"Password\")\n",
    "\n",
    "#below is the another method to pack\n",
    "#we use below method, when we want to put widgets in grid layout\n",
    "#bydefault row and column = 0\n",
    "\n",
    "user.grid()\n",
    "password.grid(row=1)\n",
    "\n",
    "#Variable classes in Tkinter\n",
    "#1- BooleanVar 2- DoubleVar 3 -IntVar 4- StringVar\n",
    "\n",
    "#Entry Widgets - are those widgets in which user can give input\n",
    "#Now we know username is a string variable, so we use StringVar\n",
    "\n",
    "uservalue = StringVar()\n",
    "passvalue = StringVar()\n",
    "\n",
    "userentry = Entry(textvariable=uservalue)\n",
    "passentry = Entry(textvariable=passvalue)\n",
    "\n",
    "userentry.grid(row=0,column=1)\n",
    "passentry.grid(row=1,column=1)\n",
    "\n",
    "def getvals():\n",
    "    print(uservalue.get())   #get() function fetch the value from textvariable\n",
    "    print(passvalue.get()) \n",
    "\n",
    "b = Button(text=\"Submit\",command=getvals)\n",
    "b.grid()\n",
    "\n",
    "root.mainloop()"
   ]
  }
 ],
 "metadata": {
  "kernelspec": {
   "display_name": "Python 3",
   "language": "python",
   "name": "python3"
  },
  "language_info": {
   "codemirror_mode": {
    "name": "ipython",
    "version": 3
   },
   "file_extension": ".py",
   "mimetype": "text/x-python",
   "name": "python",
   "nbconvert_exporter": "python",
   "pygments_lexer": "ipython3",
   "version": "3.6.9"
  }
 },
 "nbformat": 4,
 "nbformat_minor": 2
}
