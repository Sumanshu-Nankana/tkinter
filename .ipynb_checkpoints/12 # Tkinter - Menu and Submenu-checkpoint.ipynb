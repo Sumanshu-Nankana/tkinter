{
 "cells": [
  {
   "cell_type": "code",
   "execution_count": 17,
   "metadata": {},
   "outputs": [],
   "source": [
    "from tkinter import *\n",
    "\n",
    "root = Tk()\n",
    "root.title(\"Menu and Submenu\")\n",
    "root.geometry(\"300x300\")\n",
    "\n",
    "def myfunc():\n",
    "    print(\"Hi\")\n",
    "\n",
    "def quit():\n",
    "    root.destroy()\n",
    "\n",
    "def about():\n",
    "    print(\"Menu and Submenu GUI v0.1\")\n",
    "    \n",
    "main_menu = Menu(root)  #this is for horizontal menu\n",
    "main_menu.add_command(label=\"File\",command=myfunc)  #So if if we click on File, it will execute myfunc function\n",
    "\n",
    "#But these options are not acting as a Drop down\n",
    "\n",
    "# So To create drop-down ; first create all options and then cascade and give them label\n",
    "\n",
    "m1 = Menu(main_menu,tearoff=0) \n",
    "# if we not use tearoff (in drop down - we could see doted line and if click on that full menu bar came outside)\n",
    "m1.add_command(label=\"New\",command=myfunc)\n",
    "m1.add_command(label=\"Save\",command=myfunc)\n",
    "m1.add_command(label=\"SaveAs\",command=myfunc)\n",
    "m1.add_separator()  #it gives a seperated line in options (as generally we have in all menu bar)\n",
    "m1.add_command(label=\"Print\",command=myfunc)\n",
    "m1.add_command(label=\"Exit\",command=quit)\n",
    "main_menu.add_cascade(label=\"File Drop\",menu=m1)\n",
    "\n",
    "m2 = Menu(main_menu,tearoff=0) \n",
    "m2.add_command(label=\"Cut\",command=myfunc)\n",
    "m2.add_command(label=\"Copy\",command=myfunc)\n",
    "m2.add_command(label=\"Delete\",command=myfunc)\n",
    "m2.add_separator()\n",
    "m2.add_command(label=\"Paste\",command=myfunc)\n",
    "m2.add_command(label=\"Exit\",command=quit)\n",
    "main_menu.add_cascade(label=\"Edit\",menu=m2)\n",
    "\n",
    "main_menu.add_command(label=\"About\",command=about)\n",
    "\n",
    "#But instead of packing or grid, we use config function for menu\n",
    "\n",
    "root.config(menu=main_menu)\n",
    "\n",
    "root.mainloop()"
   ]
  }
 ],
 "metadata": {
  "kernelspec": {
   "display_name": "Python 3",
   "language": "python",
   "name": "python3"
  },
  "language_info": {
   "codemirror_mode": {
    "name": "ipython",
    "version": 3
   },
   "file_extension": ".py",
   "mimetype": "text/x-python",
   "name": "python",
   "nbconvert_exporter": "python",
   "pygments_lexer": "ipython3",
   "version": "3.6.9"
  }
 },
 "nbformat": 4,
 "nbformat_minor": 2
}
