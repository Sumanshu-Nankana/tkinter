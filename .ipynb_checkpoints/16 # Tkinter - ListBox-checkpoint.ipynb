{
 "cells": [
  {
   "cell_type": "code",
   "execution_count": 13,
   "metadata": {},
   "outputs": [
    {
     "name": "stdout",
     "output_type": "stream",
     "text": [
      "First Item\n",
      "0\n",
      "First Item\n",
      "1\n"
     ]
    }
   ],
   "source": [
    "from tkinter import *\n",
    "\n",
    "root = Tk()\n",
    "root.title(\"ListBox\")\n",
    "root.geometry(\"400x300\")\n",
    "\n",
    "lbx = Listbox(root)\n",
    "lbx.pack()\n",
    "\n",
    "#Now to insert values in Listbox we will use insert function\n",
    "lbx.insert(END,\"First Item\")  #END means - inserted after END item\n",
    "\n",
    "i = 0\n",
    "def add_item():\n",
    "    global i\n",
    "    lbx.insert(ACTIVE,f\"{i}\")  #ACTIVE - means - add above the selected item\n",
    "    i+=1\n",
    "    print(lbx.get(ACTIVE))  #This is to get the selected value\n",
    "    \n",
    "Button(root,text=\"Add Item in List\",command=add_item).pack()\n",
    "\n",
    "root.mainloop()"
   ]
  }
 ],
 "metadata": {
  "kernelspec": {
   "display_name": "Python 3",
   "language": "python",
   "name": "python3"
  },
  "language_info": {
   "codemirror_mode": {
    "name": "ipython",
    "version": 3
   },
   "file_extension": ".py",
   "mimetype": "text/x-python",
   "name": "python",
   "nbconvert_exporter": "python",
   "pygments_lexer": "ipython3",
   "version": "3.6.9"
  }
 },
 "nbformat": 4,
 "nbformat_minor": 2
}
