{
 "cells": [
  {
   "cell_type": "code",
   "execution_count": 6,
   "metadata": {},
   "outputs": [
    {
     "name": "stdout",
     "output_type": "stream",
     "text": [
      "You clicked on the button 39, 22\n",
      "You clicked on the button 39, 22\n"
     ]
    }
   ],
   "source": [
    "from tkinter import *\n",
    "\n",
    "root = Tk()\n",
    "root.geometry(\"300x300\")\n",
    "root.title(\"Event Handling\")\n",
    "\n",
    "b1 = Button(root,text=\"Click!\")\n",
    "b1.pack()\n",
    "\n",
    "\n",
    "# when we perform any operation like click mouse, click button, double click\n",
    "# at backend an event trigerred\n",
    "# There are so many events in tkinter - https://effbot.org/tkinterbook/tkinter-events-and-bindings.htm\n",
    "# exampples -\n",
    "# <Button-1>  - A mouse button is pressed over the widget.\n",
    "# <B1-Motion> -The mouse is moved, with mouse button 1 being held down\n",
    "# and if we want to use that, we need to bind those event\n",
    "# so what we are saying is if anyone click on button - then called a function - func()\n",
    "\n",
    "# Tkinter pass one argument ..So if we not pass the argument, we will get error as\n",
    "# TypeError: func() takes 0 positional arguments but 1 was given\n",
    "# x and y gives the current mouse position in pixels\n",
    "# x and y are event attributes...there are so many other atributes\n",
    "\n",
    "def func(event):\n",
    "    print(f\"You clicked on the button {event.x}, {event.y}\")\n",
    "    \n",
    "def quit(event):                           \n",
    "     root.destroy()\n",
    "\n",
    "b1.bind('<Button-1>',func)\n",
    "b1.bind('<Double-1>',quit)  \n",
    "\n",
    "root.mainloop()"
   ]
  }
 ],
 "metadata": {
  "kernelspec": {
   "display_name": "Python 3",
   "language": "python",
   "name": "python3"
  },
  "language_info": {
   "codemirror_mode": {
    "name": "ipython",
    "version": 3
   },
   "file_extension": ".py",
   "mimetype": "text/x-python",
   "name": "python",
   "nbconvert_exporter": "python",
   "pygments_lexer": "ipython3",
   "version": "3.6.9"
  }
 },
 "nbformat": 4,
 "nbformat_minor": 2
}
