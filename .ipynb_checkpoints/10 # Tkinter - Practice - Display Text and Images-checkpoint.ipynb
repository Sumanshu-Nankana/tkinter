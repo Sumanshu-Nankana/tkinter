{
 "cells": [
  {
   "cell_type": "code",
   "execution_count": 103,
   "metadata": {},
   "outputs": [],
   "source": [
    "from tkinter import *\n",
    "from PIL import ImageTk, Image\n",
    "from datetime import datetime\n",
    "\n",
    "root = Tk()\n",
    "root.geometry(\"900x700\")\n",
    "root.minsize(900,700)\n",
    "root.maxsize(900,700)\n",
    "root.title(\"Practice\")\n",
    "\n",
    "txt_files = ['python.txt','rubyonrails.txt','Golang.txt']\n",
    "img_files = ['python.png','rubyonrails.png','GoLang.png']\n",
    "\n",
    "all_txts = []\n",
    "all_images = []\n",
    "\n",
    "\n",
    "# The text in text files are in one line and in GUI it's displaying in whole window\n",
    "# So basically we are adding new line character after evert 100 chars\n",
    "def every_100(text):\n",
    "    final_txt = \"\"\n",
    "    for i in range(0,len(text)):\n",
    "        final_txt += text[i]\n",
    "        if i%100 == 0 and i!=0:\n",
    "            final_txt += \"\\n\"\n",
    "    return final_txt            \n",
    "\n",
    "for i in txt_files:\n",
    "    with open(i,'r') as f:\n",
    "        text = f.read()\n",
    "        all_txts.append(every_100(text))\n",
    "\n",
    "for img in img_files:\n",
    "    image = Image.open(img)\n",
    "    image = image.resize((200,100),Image.ANTIALIAS)\n",
    "    all_images.append(ImageTk.PhotoImage(image))     \n",
    "\n",
    "#Top Frame\n",
    "title_frame = Frame(root,width=900,height=70)\n",
    "Label(title_frame,text=\"News\",font=\"lucida 33 bold\").pack()\n",
    "Label(title_frame,text=datetime.now(),font=\"lucida 13\").pack()\n",
    "title_frame.pack()\n",
    "\n",
    "text_heading = ['PYTHON','RUBY ON RAILS','GO']\n",
    "\n",
    "#Middle Frame for Images\n",
    "for i in range(3):\n",
    "    f1 = Frame(root,width=900,height=700)\n",
    "    Label(f1,text=text_heading[i],font=\"lucida 13 bold\",pady=20).pack(anchor='w')\n",
    "    Label(f1,text=all_txts[i],pady=20).pack(side=\"left\")\n",
    "    Label(f1,image=all_images[i],anchor='e',pady=20).pack(side=\"left\")\n",
    "    f1.pack(anchor='w',padx=10)\n",
    "\n",
    "\n",
    "root.mainloop()"
   ]
  }
 ],
 "metadata": {
  "kernelspec": {
   "display_name": "Python 3",
   "language": "python",
   "name": "python3"
  },
  "language_info": {
   "codemirror_mode": {
    "name": "ipython",
    "version": 3
   },
   "file_extension": ".py",
   "mimetype": "text/x-python",
   "name": "python",
   "nbconvert_exporter": "python",
   "pygments_lexer": "ipython3",
   "version": "3.6.9"
  }
 },
 "nbformat": 4,
 "nbformat_minor": 2
}
