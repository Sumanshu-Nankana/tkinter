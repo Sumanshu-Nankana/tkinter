{
 "cells": [
  {
   "cell_type": "code",
   "execution_count": 13,
   "metadata": {},
   "outputs": [
    {
     "name": "stdout",
     "output_type": "stream",
     "text": [
      "I am button-1\n",
      "I am button-3\n",
      "I am button-2\n"
     ]
    }
   ],
   "source": [
    "from tkinter import *\n",
    "\n",
    "root = Tk()\n",
    "root.geometry(\"400x400\")\n",
    "root.title(\"Button\")\n",
    "\n",
    "def fun1():\n",
    "    print(\"I am button-1\")\n",
    "\n",
    "def fun2():\n",
    "    print(\"I am button-2\")\n",
    "\n",
    "def fun3():\n",
    "    print(\"I am button-3\")\n",
    "\n",
    "    \n",
    "f1 = Frame(root,borderwidth=6,relief=SUNKEN,bg='grey')\n",
    "f1.pack(side=LEFT,anchor='nw')\n",
    "\n",
    "b1 = Button(f1,fg='red',text='Button-1',command=fun1) #here we just need to mention function name, not call like ()\n",
    "b1.pack(side=LEFT,padx=8)\n",
    "\n",
    "b2 = Button(f1,fg='red',text='Button-2',command=fun2)\n",
    "b2.pack(side=LEFT,padx=8)\n",
    "\n",
    "b3 = Button(f1,fg='red',text='Button-3',command=fun3)\n",
    "b3.pack(side=LEFT,padx=8)\n",
    "\n",
    "\n",
    "root.mainloop()"
   ]
  }
 ],
 "metadata": {
  "kernelspec": {
   "display_name": "Python 3",
   "language": "python",
   "name": "python3"
  },
  "language_info": {
   "codemirror_mode": {
    "name": "ipython",
    "version": 3
   },
   "file_extension": ".py",
   "mimetype": "text/x-python",
   "name": "python",
   "nbconvert_exporter": "python",
   "pygments_lexer": "ipython3",
   "version": "3.6.9"
  }
 },
 "nbformat": 4,
 "nbformat_minor": 2
}
