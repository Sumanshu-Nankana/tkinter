{
 "cells": [
  {
   "cell_type": "code",
   "execution_count": 48,
   "metadata": {},
   "outputs": [
    {
     "name": "stdout",
     "output_type": "stream",
     "text": [
      "Form Submitted !!\n"
     ]
    }
   ],
   "source": [
    "from tkinter import *\n",
    "\n",
    "root = Tk()\n",
    "root.geometry(\"400x400\")\n",
    "root.title('Check Buttons')\n",
    "\n",
    "l1 = Label(root,text=\"Welcome !!!!\",font=\"comicsansms 13 bold\",pady=15)\n",
    "l1.grid(row=0,column=3)\n",
    "\n",
    "name = Label(root,text=\"Name\")\n",
    "phone = Label(root,text=\"Phone\")\n",
    "gender = Label(root,text=\"Gender\")\n",
    "emergency = Label(root,text=\"Emergency Contact\")\n",
    "paymentmode = Label(root,text=\"Payment Mode\")\n",
    "\n",
    "name.grid(row=1,column=2)\n",
    "phone.grid(row=2,column=2)\n",
    "gender.grid(row=3,column=2)\n",
    "emergency.grid(row=4,column=2)\n",
    "paymentmode.grid(row=5,column=2)\n",
    "\n",
    "namevalue = StringVar()\n",
    "phonevalue = StringVar()\n",
    "gendervalue = StringVar()\n",
    "emergencyvalue = StringVar()\n",
    "paymentmodevalue = StringVar()\n",
    "foodservicevalue = IntVar()  #we will make this check box (and check box either be 0 or 1) thus, IntVar()\n",
    "\n",
    "nameentry = Entry(root,textvariable=namevalue)\n",
    "phoneentry = Entry(root,textvariable=phonevalue)\n",
    "genderentry = Entry(root,textvariable=gendervalue)\n",
    "emergencyentry = Entry(root,textvariable=emergencyvalue)\n",
    "paymententry = Entry(root,textvariable=paymentmodevalue)\n",
    "\n",
    "nameentry.grid(row=1,column=3)\n",
    "phoneentry.grid(row=2,column=3)\n",
    "genderentry.grid(row=3,column=3)\n",
    "emergencyentry.grid(row=4,column=3)\n",
    "paymententry.grid(row=5,column=3)\n",
    "\n",
    "foodservice = Checkbutton(text=\"Want to book your meals?\",variable=foodservicevalue)\n",
    "foodservice.grid(row=6,column=3)\n",
    "\n",
    "def getvals():\n",
    "    print(\"Form Submitted !!\")\n",
    "    with open(\"records.txt\",'w') as f:\n",
    "        f.write(f\"{namevalue.get()},{phonevalue.get()},{gendervalue.get()},{emergencyvalue.get()},\\\n",
    "                {paymentmodevalue.get()},{foodservicevalue.get()}\")\n",
    "        \n",
    "\n",
    "b = Button(text=\"Submit to Travel!\",command=getvals)\n",
    "b.grid(row=7,column=2)\n",
    "\n",
    "root.mainloop()"
   ]
  }
 ],
 "metadata": {
  "kernelspec": {
   "display_name": "Python 3",
   "language": "python",
   "name": "python3"
  },
  "language_info": {
   "codemirror_mode": {
    "name": "ipython",
    "version": 3
   },
   "file_extension": ".py",
   "mimetype": "text/x-python",
   "name": "python",
   "nbconvert_exporter": "python",
   "pygments_lexer": "ipython3",
   "version": "3.6.9"
  }
 },
 "nbformat": 4,
 "nbformat_minor": 2
}
