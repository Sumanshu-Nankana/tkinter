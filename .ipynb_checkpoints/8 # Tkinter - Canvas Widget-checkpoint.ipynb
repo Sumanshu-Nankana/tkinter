{
 "cells": [
  {
   "cell_type": "code",
   "execution_count": 22,
   "metadata": {},
   "outputs": [],
   "source": [
    "from tkinter import *\n",
    "\n",
    "root = Tk()\n",
    "root.title(\"Canvas\")\n",
    "\n",
    "canvas_width = 800\n",
    "canvas_height = 400\n",
    "root.geometry(f\"{canvas_width}x{canvas_height}\")\n",
    "\n",
    "can_widget = Canvas(root,width=canvas_width,height=canvas_height)\n",
    "can_widget.pack()\n",
    "\n",
    "#The line goes from point x1,y1 to x2,y2\n",
    "can_widget.create_line(0,0,800,400,fill=\"red\")\n",
    "can_widget.create_line(0,400,800,0,fill=\"red\")\n",
    "\n",
    "#we need to give top left and bottom right coordinate\n",
    "can_widget.create_rectangle(100,50,300,300,fill=\"blue\")\n",
    "\n",
    "#to write any text label; we need to give center point\n",
    "can_widget.create_text(400,200,text=\"Python\")\n",
    "\n",
    "#we need to give rectngle cordinate and that oval will fit\n",
    "can_widget.create_oval(100,50,300,300)\n",
    "\n",
    "root.mainloop()"
   ]
  }
 ],
 "metadata": {
  "kernelspec": {
   "display_name": "Python 3",
   "language": "python",
   "name": "python3"
  },
  "language_info": {
   "codemirror_mode": {
    "name": "ipython",
    "version": 3
   },
   "file_extension": ".py",
   "mimetype": "text/x-python",
   "name": "python",
   "nbconvert_exporter": "python",
   "pygments_lexer": "ipython3",
   "version": "3.6.9"
  }
 },
 "nbformat": 4,
 "nbformat_minor": 2
}
