{
 "cells": [
  {
   "cell_type": "code",
   "execution_count": null,
   "metadata": {},
   "outputs": [],
   "source": [
    "from tkinter import *\n",
    "\n",
    "root = Tk()\n",
    "root.geometry(\"350x200\")\n",
    "root.title(\"windows Resizer\")\n",
    "\n",
    "Label(root,text=\"Windows Resizer\",fg=\"red\",font=\"lucida 10 bold\").grid(row=1,column=1)\n",
    "\n",
    "Label(root,text=\"Enter Height\",font=\"lucida 10 bold\").grid(row=2,column=1)\n",
    "height_val = StringVar()\n",
    "Entry(textvariable=height_val).grid(row=2,column=2)\n",
    "\n",
    "Label(root,text=\"Enter Width\",font=\"lucida 10 bold\").grid(row=3,column=1)\n",
    "width_val = StringVar()\n",
    "Entry(textvariable=width_val).grid(row=3,column=2)\n",
    "\n",
    "\n",
    "def resize():\n",
    "    height = height_val.get()\n",
    "    width = width_val.get()\n",
    "    root.geometry(f'{width}x{height}')\n",
    "\n",
    "Button(text=\"Resize Window\",fg=\"blue\",command=resize).grid(row=5,column=1)\n",
    "\n",
    "root.mainloop()"
   ]
  }
 ],
 "metadata": {
  "kernelspec": {
   "display_name": "Python 3",
   "language": "python",
   "name": "python3"
  },
  "language_info": {
   "codemirror_mode": {
    "name": "ipython",
    "version": 3
   },
   "file_extension": ".py",
   "mimetype": "text/x-python",
   "name": "python",
   "nbconvert_exporter": "python",
   "pygments_lexer": "ipython3",
   "version": "3.6.9"
  }
 },
 "nbformat": 4,
 "nbformat_minor": 2
}
