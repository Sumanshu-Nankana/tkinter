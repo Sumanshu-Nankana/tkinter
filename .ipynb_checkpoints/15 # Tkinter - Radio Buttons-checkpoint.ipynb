{
 "cells": [
  {
   "cell_type": "code",
   "execution_count": 40,
   "metadata": {},
   "outputs": [],
   "source": [
    "from tkinter import *\n",
    "import tkinter.messagebox as tmsg\n",
    "\n",
    "root = Tk()\n",
    "root.title(\"Radio Buttons\")\n",
    "root.geometry(\"800x400\")  #width * height\n",
    "\n",
    "var = IntVar()\n",
    "var.set(2)  #it means by default radio button having value=2 will be selected\n",
    "\n",
    "Label(root,text=\"What would you like to have Sir?\",font=\"lucida 19 bold\").pack(anchor='w')\n",
    "\n",
    "#we took integer variable, so in value field only integer thing will passed\n",
    "radio = Radiobutton(root,text=\"Dosa\",variable=var,value=1).pack(anchor='w')\n",
    "radio = Radiobutton(root,text=\"Samosa\",variable=var,value=2).pack(anchor='w')\n",
    "radio = Radiobutton(root,text=\"Parantha\",variable=var,value=3).pack(anchor='w')\n",
    "radio = Radiobutton(root,text=\"Idly\",variable=var,value=4).pack(anchor='w')\n",
    "\n",
    "def order_now():\n",
    "    tmsg.showinfo(\"Item\",f\"You have ordered {var.get()}\")\n",
    "    \n",
    "Button(root,text=\"Order Now!\",command=order_now).pack(anchor='w')\n",
    "\n",
    "#################################################################################\n",
    "\n",
    "var1 = StringVar()\n",
    "var1.set(\"Dosa\") #if we not give initial value to variable, by default all will be selcted\n",
    "\n",
    "Label(root,text=\"What would you like to have Sir?\",font=\"lucida 19 bold\").pack(anchor='w')\n",
    "\n",
    "# Now we took var1 as string varable, so string content will be passed\n",
    "radio1 = Radiobutton(root,text=\"Dosa\",variable=var1,value=\"Dosa\").pack(anchor='w')\n",
    "radio1 = Radiobutton(root,text=\"Samosa\",variable=var1,value=\"Samosa\").pack(anchor='w')\n",
    "radio1 = Radiobutton(root,text=\"Parantha\",variable=var1,value=\"Parantha\").pack(anchor='w')\n",
    "\n",
    "def order1_now():\n",
    "    tmsg.showinfo(\"Item\",f\"You have ordered {var1.get()}. Thanks for Ordering !!\")\n",
    "    \n",
    "Button(root,text=\"Order Now!\",command=order1_now).pack(anchor='w')\n",
    "\n",
    "root.mainloop()"
   ]
  }
 ],
 "metadata": {
  "kernelspec": {
   "display_name": "Python 3",
   "language": "python",
   "name": "python3"
  },
  "language_info": {
   "codemirror_mode": {
    "name": "ipython",
    "version": 3
   },
   "file_extension": ".py",
   "mimetype": "text/x-python",
   "name": "python",
   "nbconvert_exporter": "python",
   "pygments_lexer": "ipython3",
   "version": "3.6.9"
  }
 },
 "nbformat": 4,
 "nbformat_minor": 2
}
