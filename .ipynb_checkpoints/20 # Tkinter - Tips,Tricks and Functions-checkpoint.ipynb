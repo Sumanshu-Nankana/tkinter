{
 "cells": [
  {
   "cell_type": "code",
   "execution_count": 31,
   "metadata": {},
   "outputs": [
    {
     "name": "stdout",
     "output_type": "stream",
     "text": [
      " width: 1366, height:768\n"
     ]
    }
   ],
   "source": [
    "from tkinter import *\n",
    "\n",
    "root = Tk()\n",
    "root.geometry(\"400x400\")\n",
    "root.title(\"More Function\")\n",
    "\n",
    "#to change the GUI icon\n",
    "#root.wm_iconbitmap(\"icon.xbm\") \n",
    "#in window ico file will work and in linux xbm will work (but not working for me)\n",
    "\n",
    "#if we want to do any changes in GUI, we use configure function\n",
    "#we can set the background\n",
    "root.configure(bg='blue')\n",
    "\n",
    "#to get the height and width of window\n",
    "width = root.winfo_screenwidth()\n",
    "height = root.winfo_screenheight()\n",
    "print(f\" width: {width}, height:{height}\")\n",
    "\n",
    "#to close the GUI\n",
    "Button(text='Close',command=root.destroy).pack()\n",
    "\n",
    "root.mainloop()"
   ]
  }
 ],
 "metadata": {
  "kernelspec": {
   "display_name": "Python 3",
   "language": "python",
   "name": "python3"
  },
  "language_info": {
   "codemirror_mode": {
    "name": "ipython",
    "version": 3
   },
   "file_extension": ".py",
   "mimetype": "text/x-python",
   "name": "python",
   "nbconvert_exporter": "python",
   "pygments_lexer": "ipython3",
   "version": "3.6.9"
  }
 },
 "nbformat": 4,
 "nbformat_minor": 2
}
