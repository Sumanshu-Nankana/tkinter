{
 "cells": [
  {
   "cell_type": "code",
   "execution_count": 56,
   "metadata": {},
   "outputs": [],
   "source": [
    "from tkinter import *\n",
    "\n",
    "root = Tk()\n",
    "\n",
    "root.geometry(\"700x300\")\n",
    "#root.minsize(700,300)\n",
    "#root.maxsize(700,300)\n",
    "\n",
    "#if we want to set any title\n",
    "root.title(\"My GUI\") \n",
    "\n",
    "###### Label options ######\n",
    "\n",
    "# text - add the text\n",
    "# bg - back ground\n",
    "# fg - forge ground\n",
    "\n",
    "# font - sets the font\n",
    "# we can give font in two ways\n",
    "# 1. as a tuple\n",
    "# 2. as a string\n",
    "\n",
    "# padx - x padding (space from x-axis - how much far from x-axis)\n",
    "# pady - y padding (space from y-axis - how much far from y-axis)\n",
    "# relief - border styling SUNKER, RAISED,GROOVER, RIDGE\n",
    "\n",
    "label1 = Label(text='''Python is an interpreted, high-level, general-purpose programming language. \n",
    "\\nCreated by Guido van Rossum and first released in 1991, \n",
    "\\nPython's design philosophy emphasizes code readability with its notable use of significant whitespace.\n",
    "\\nIts language constructs and object-oriented approach aim to help programmers write clear, logical code for \n",
    "\\nsmall and large-scale projects''',bg = 'red', fg = 'white',padx=30,pady=30, font = ('cominsansms',13,'italic'))\n",
    "\n",
    "label2 = Label(text='''Python is an interpreted, high-level, general-purpose programming language. \n",
    "\\nCreated by Guido van Rossum and first released in 1991, \n",
    "\\nPython's design philosophy emphasizes code readability with its notable use of significant whitespace.\n",
    "\\nIts language constructs and object-oriented approach aim to help programmers write clear, logical code for \n",
    "\\nsmall and large-scale projects''',bg = 'red', fg = 'white',padx=30,pady=30, font = \"cominsansms 13 italic\",\n",
    "borderwidth = 3, relief = SUNKEN)\n",
    "\n",
    "label3 = Label(text='Ready',bg='yellow',fg='green')\n",
    "\n",
    "###### Pack options  #######\n",
    "\n",
    "# anchor = nw (north west)\n",
    "# side = top,bottom,left,right - by default- top\n",
    "# fill = if it's 'x' then as we dragt the window - the content also drag along x axis\n",
    "# padx\n",
    "# pady\n",
    "\n",
    "label1.pack(anchor='se',fill=X,padx=10,pady=10)\n",
    "label2.pack()\n",
    "label3.pack(side=BOTTOM,fill=X)\n",
    "\n",
    "root.mainloop()"
   ]
  }
 ],
 "metadata": {
  "kernelspec": {
   "display_name": "Python 3",
   "language": "python",
   "name": "python3"
  },
  "language_info": {
   "codemirror_mode": {
    "name": "ipython",
    "version": 3
   },
   "file_extension": ".py",
   "mimetype": "text/x-python",
   "name": "python",
   "nbconvert_exporter": "python",
   "pygments_lexer": "ipython3",
   "version": "3.6.9"
  }
 },
 "nbformat": 4,
 "nbformat_minor": 2
}
