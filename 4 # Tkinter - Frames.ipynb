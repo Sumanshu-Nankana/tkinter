{
 "cells": [
  {
   "cell_type": "code",
   "execution_count": 24,
   "metadata": {},
   "outputs": [],
   "source": [
    "from tkinter import *\n",
    "root = Tk()\n",
    "root.geometry(\"400x400\")\n",
    "root.title(\"Frames\")\n",
    "\n",
    "# we can create the Frames in a GUI\n",
    "#\n",
    "# Like in Pycharm - we could see many frames \n",
    "# 1- one frame - where we type code  2- where we have side bar 3 - where we have terminal/console\n",
    "# Frame widgets are used to group other widgets into complex layouts.\n",
    "\n",
    "#create a frame and put them into a root\n",
    "f1 = Frame(root,bg='gray',borderwidth=4,relief=SUNKEN)\n",
    "f1.pack(side=LEFT,fill=Y)\n",
    "\n",
    "f2 = Frame(root,bg='gray',borderwidth=6,relief=SUNKEN)\n",
    "f2.pack(side=TOP,fill=X)\n",
    "\n",
    "#create a label and put that label into a frame\n",
    "l1 = Label(f1,text=\"Side Menu\")\n",
    "l1.pack(pady=200)\n",
    "\n",
    "l2 = Label(f2,text=\"Welcome to Frame Tutorial\",font=\"Helvetica 16 bold\",fg=\"red\")\n",
    "l2.pack()\n",
    "\n",
    "root.mainloop()"
   ]
  }
 ],
 "metadata": {
  "kernelspec": {
   "display_name": "Python 3",
   "language": "python",
   "name": "python3"
  },
  "language_info": {
   "codemirror_mode": {
    "name": "ipython",
    "version": 3
   },
   "file_extension": ".py",
   "mimetype": "text/x-python",
   "name": "python",
   "nbconvert_exporter": "python",
   "pygments_lexer": "ipython3",
   "version": "3.6.9"
  }
 },
 "nbformat": 4,
 "nbformat_minor": 2
}
