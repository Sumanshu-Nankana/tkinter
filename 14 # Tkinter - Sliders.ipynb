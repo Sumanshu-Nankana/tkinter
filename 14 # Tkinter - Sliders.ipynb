{
 "cells": [
  {
   "cell_type": "code",
   "execution_count": 22,
   "metadata": {},
   "outputs": [],
   "source": [
    "from tkinter import *\n",
    "import tkinter.messagebox as tmsg\n",
    "\n",
    "root = Tk()\n",
    "root.title(\"Siders\")\n",
    "root.geometry(\"400x400\")\n",
    "\n",
    "myslider = Scale(root,from_ = 0 , to = 400)\n",
    "myslider.pack()\n",
    "\n",
    "Label(root,text=\"How many dollars do you want?\").pack()\n",
    "\n",
    "# to make slider - horizontally\n",
    "myslider2 = Scale(root,from_ = 0 , to = 400,orient=HORIZONTAL)\n",
    "myslider2.set(20) #to set initial value of slider (if required)\n",
    "myslider2.pack()\n",
    "\n",
    "def get_dollar():\n",
    "    tmsg.showinfo(\"Amount\",f\"Ok! you have selected {myslider2.get()} dollars\")\n",
    "\n",
    "Button(root,text=\"Get Dollars\",command=get_dollar).pack()\n",
    "\n",
    "myslider3 = Scale(root,from_ = 0 , to = 100,orient=HORIZONTAL,tickinterval=50)\n",
    "myslider3.pack()\n",
    "\n",
    "root.mainloop()"
   ]
  }
 ],
 "metadata": {
  "kernelspec": {
   "display_name": "Python 3",
   "language": "python",
   "name": "python3"
  },
  "language_info": {
   "codemirror_mode": {
    "name": "ipython",
    "version": 3
   },
   "file_extension": ".py",
   "mimetype": "text/x-python",
   "name": "python",
   "nbconvert_exporter": "python",
   "pygments_lexer": "ipython3",
   "version": "3.6.9"
  }
 },
 "nbformat": 4,
 "nbformat_minor": 2
}
