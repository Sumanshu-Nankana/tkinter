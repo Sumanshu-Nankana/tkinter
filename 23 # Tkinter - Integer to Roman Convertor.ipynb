{
 "cells": [
  {
   "cell_type": "code",
   "execution_count": 82,
   "metadata": {},
   "outputs": [],
   "source": [
    "from tkinter import *\n",
    "import tkinter.messagebox as tmsg\n",
    "\n",
    "# Basic window\n",
    "root = Tk()\n",
    "root.title(\"Integer to Roman Convertor\")\n",
    "root.geometry(\"380x250\")\n",
    "root.resizable(0,0)\n",
    "root.configure(background='powder blue')\n",
    "\n",
    "# Functions\n",
    "def int2romanHelper(num):\n",
    "    \n",
    "    try:\n",
    "        num = int(num)\n",
    "    except:\n",
    "        tmsg.showinfo(\"Error\",\"Integers Value accepted\")\n",
    "        return\n",
    "    \n",
    "    dic = {'I':1,'IV':4,'V':5,'IX':9,'X':10,'XL':40,'L':50,'XC':90,'C':100,'CD':400,'D':500,'CM':900,'M':1000}\n",
    "    for sym,val in dic.items():\n",
    "        if val == num:\n",
    "            return sym\n",
    "        if num > val:\n",
    "            symbol = sym\n",
    "        \n",
    "    remaining = num - dic[symbol]\n",
    "    return symbol + int2romanHelper(remaining)\n",
    "\n",
    "def int2roman():\n",
    "    num = inp_num.get()\n",
    "    ans = str(int2romanHelper(num))\n",
    "    out_num.set(ans)\n",
    "    \n",
    "# Labels, Entry and Button\n",
    "lb1 = Label(root,text=\"Enter Decimal Number\",font=\"lucida 20 bold\",fg=\"blue\")\n",
    "lb1.pack(anchor='w',padx=10)\n",
    "\n",
    "inp_num = StringVar()\n",
    "inp_num.set('0')\n",
    "ent1 = Entry(root,width=25,font=\"lucida 15\",textvariable=inp_num)\n",
    "ent1.pack(anchor='w',ipady=10,padx=10)\n",
    "\n",
    "\n",
    "bt1 = Button(text='Convert',width=10,font=\"lucida 10 bold\",fg=\"red\",command=int2roman)\n",
    "bt1.pack(anchor='w',padx=10,pady=10)\n",
    "\n",
    "lb2= Label(root,text=\"Roman Number\",font=\"lucida 20 bold\",fg=\"Green\")\n",
    "lb2.pack(anchor='w',padx=10)\n",
    "\n",
    "out_num = StringVar()\n",
    "ent1 = Entry(root,width=25,font=\"lucida 15\",textvariable=out_num,state=\"readonly\")\n",
    "ent1.pack(anchor='w',ipady=10,padx=10)\n",
    "\n",
    "root.mainloop()"
   ]
  }
 ],
 "metadata": {
  "kernelspec": {
   "display_name": "Python 3",
   "language": "python",
   "name": "python3"
  },
  "language_info": {
   "codemirror_mode": {
    "name": "ipython",
    "version": 3
   },
   "file_extension": ".py",
   "mimetype": "text/x-python",
   "name": "python",
   "nbconvert_exporter": "python",
   "pygments_lexer": "ipython3",
   "version": "3.6.9"
  }
 },
 "nbformat": 4,
 "nbformat_minor": 2
}
